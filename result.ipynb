{
 "cells": [
  {
   "cell_type": "code",
   "execution_count": 1,
   "metadata": {},
   "outputs": [
    {
     "name": "stdout",
     "output_type": "stream",
     "text": [
      "asc : pt laptop metric 0 77.43\n",
      "array([[77.42946708, 74.91467184]])\n",
      "asc : pt laptop metric 1 74.91\n",
      "array([[77.42946708, 74.91467184]])\n",
      "asc : pt laptop metric 0 77.43\n",
      "array([[77.42946708, 74.91467184]])\n",
      "asc : pt laptop metric 1 74.91\n",
      "array([[77.42946708, 74.91467184]])\n",
      "asc : pt laptop metric 0 77.43\n",
      "array([[77.42946708, 74.91467184]])\n",
      "asc : pt laptop metric 1 74.91\n",
      "array([[77.42946708, 74.91467184]])\n",
      "asc : pt laptop metric 0 77.43\n",
      "array([[77.42946708, 74.91467184]])\n",
      "asc : pt laptop metric 1 74.91\n",
      "array([[77.42946708, 74.91467184]])\n",
      "asc : pt laptop metric 0 77.43\n",
      "array([[77.42946708, 74.91467184]])\n",
      "asc : pt laptop metric 1 74.91\n",
      "array([[77.42946708, 74.91467184]])\n",
      "asc : pt laptop metric 0 77.43\n",
      "array([[77.42946708, 74.91467184]])\n",
      "asc : pt laptop metric 1 74.91\n",
      "array([[77.42946708, 74.91467184]])\n",
      "asc : pt laptop metric 0 77.43\n",
      "array([[77.42946708, 74.91467184]])\n",
      "asc : pt laptop metric 1 74.91\n",
      "array([[77.42946708, 74.91467184]])\n",
      "asc : pt laptop metric 0 77.43\n",
      "array([[77.42946708, 74.91467184]])\n",
      "asc : pt laptop metric 1 74.91\n",
      "array([[77.42946708, 74.91467184]])\n",
      "asc : pt laptop metric 0 77.43\n",
      "array([[77.42946708, 74.91467184]])\n",
      "asc : pt laptop metric 1 74.91\n",
      "array([[77.42946708, 74.91467184]])\n"
     ]
    }
   ],
   "source": [
    "tasks=[\"asc\"]\n",
    "berts=[\"pt\"]\n",
    "domains=[\"laptop\"]\n",
    "runs=1\n",
    "testing=True\n",
    "%run eval/eval.ipynb"
   ]
  },
  {
   "cell_type": "code",
   "execution_count": null,
   "metadata": {},
   "outputs": [],
   "source": []
  }
 ],
 "metadata": {
  "celltoolbar": "Slideshow",
  "kernelspec": {
   "display_name": "Python 3",
   "language": "python",
   "name": "python3"
  },
  "language_info": {
   "codemirror_mode": {
    "name": "ipython",
    "version": 3
   },
   "file_extension": ".py",
   "mimetype": "text/x-python",
   "name": "python",
   "nbconvert_exporter": "python",
   "pygments_lexer": "ipython3",
   "version": "3.8.7"
  }
 },
 "nbformat": 4,
 "nbformat_minor": 4
}
